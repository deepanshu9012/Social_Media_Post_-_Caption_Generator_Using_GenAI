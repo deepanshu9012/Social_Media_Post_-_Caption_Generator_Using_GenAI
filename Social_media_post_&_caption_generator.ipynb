{
  "nbformat": 4,
  "nbformat_minor": 0,
  "metadata": {
    "colab": {
      "provenance": [],
      "gpuType": "T4",
      "include_colab_link": true
    },
    "kernelspec": {
      "name": "python3",
      "display_name": "Python 3"
    },
    "language_info": {
      "name": "python"
    },
    "accelerator": "GPU"
  },
  "cells": [
    {
      "cell_type": "markdown",
      "metadata": {
        "id": "view-in-github",
        "colab_type": "text"
      },
      "source": [
        "<a href=\"https://colab.research.google.com/github/deepanshu9012/Social_Media_Post_-_Caption_Generator_Using_GenAI/blob/main/Social_media_post_%26_caption_generator.ipynb\" target=\"_parent\"><img src=\"https://colab.research.google.com/assets/colab-badge.svg\" alt=\"Open In Colab\"/></a>"
      ]
    },
    {
      "cell_type": "markdown",
      "source": [
        "### 1. Setup and Library Installation\n",
        "This section installs and imports the necessary libraries for the project: `gradio` for the web interface and `transformers` for accessing pre-trained models."
      ],
      "metadata": {
        "id": "8MoQR-J1cyQ3"
      }
    },
    {
      "cell_type": "code",
      "source": [
        "!pip install transformers gradio"
      ],
      "metadata": {
        "id": "Ebg37Gc2sdgq"
      },
      "execution_count": null,
      "outputs": []
    },
    {
      "cell_type": "code",
      "source": [
        "import gradio as gr\n",
        "from transformers import pipeline\n",
        "import random\n",
        "import torch"
      ],
      "metadata": {
        "id": "Cv3UIZA4tJuc"
      },
      "execution_count": null,
      "outputs": []
    },
    {
      "cell_type": "markdown",
      "source": [
        "### 2. Model and Pipeline Initialization\n",
        "Here, we initialize the core components:\n",
        "- **`caption_generator`**: A text-generation pipeline using the `gpt2` model to create captions.\n",
        "- **`emoji_dict`**: A dictionary that categorizes emojis by sentiment (positive, negative, neutral).\n",
        "- **`sentiment_pipeline`**: A sentiment-analysis pipeline to determine the emotion of the generated caption."
      ],
      "metadata": {
        "id": "ZNuURIS9dHep"
      }
    },
    {
      "cell_type": "code",
      "source": [
        "caption_generator = pipeline(\"text-generation\", model=\"gpt2\")"
      ],
      "metadata": {
        "id": "jXFW0iUyuAZ3"
      },
      "execution_count": null,
      "outputs": []
    },
    {
      "cell_type": "code",
      "source": [
        "emoji_dict = {\n",
        "    \"positive\": [\"😊\", \"😃\", \"😄\", \"😁\", \"😆\", \"😅\", \"😂\", \"🤣\", \"😍\", \"😘\", \"😗\", \"😙\", \"😚\", \"😋\", \"😜\", \"😝\", \"😛\", \"🤗\", \"🤩\", \"🥳\", \"😇\", \"🌟\"],\n",
        "    \"negative\": [\"😞\", \"😟\", \"😠\", \"😡\", \"😔\", \"😕\", \"🙁\", \"☹️\", \"😣\", \"😖\", \"😫\", \"😩\", \"😢\", \"😭\", \"😤\", \"😮‍💨\", \"😱\", \"😨\", \"😰\", \"😥\", \"😓\", \"🫌\"],\n",
        "    \"neutral\":  [\"😐\", \"😑\", \"😶\", \"😏\", \"😒\", \"🙄\", \"😬\", \"🤔\", \"🤨\", \"😳\", \"😞\"]\n",
        "}\n",
        "\n",
        "sentiment_pipeline = pipeline(\"sentiment-analysis\")"
      ],
      "metadata": {
        "id": "SoWTePXnurG0"
      },
      "execution_count": null,
      "outputs": []
    },
    {
      "cell_type": "markdown",
      "source": [
        "### 3. Helper Functions\n",
        "These are the functions that generate specific parts of the social media post.\n",
        "- **`get_emojis(text)`**: Analyzes the caption's sentiment and returns a random selection of three matching emojis.\n",
        "- **`get_hashtags(prompt, platform)`**: Creates relevant hashtags from the user's prompt and adds popular, platform-specific tags."
      ],
      "metadata": {
        "id": "pq5dz0-cdQVC"
      }
    },
    {
      "cell_type": "code",
      "source": [
        "def get_emojis(text):\n",
        "    label = sentiment_pipeline(text)[0]['label'].lower()\n",
        "    return ' '.join(random.sample(emoji_dict.get(label, [\"😶\"]), 3))\n",
        "\n",
        "def get_hashtags(prompt, platform):\n",
        "    words = prompt.lower().split()\n",
        "    tags = [\"#\" + word.replace(\" \", \"\") for word in words if len(word) > 3]\n",
        "\n",
        "    platform_tags = {\n",
        "        \"Instagram\": [\"#instadaily\", \"#igers\", \"#picoftheday\"],\n",
        "        \"LinkedIn\": [\"#career\", \"#leadership\", \"#networking\"],\n",
        "        \"Twitter\": [\"#tweet\", \"#trending\", \"#news\"]\n",
        "    }\n",
        "\n",
        "    return \" \".join(tags[:5] + random.sample(platform_tags[platform], 2))"
      ],
      "metadata": {
        "id": "ccqSO-YVvlJK"
      },
      "execution_count": null,
      "outputs": []
    },
    {
      "cell_type": "markdown",
      "source": [
        "### 4. Main Post Generation Function\n",
        "The `generate_post` function orchestrates the entire process. It takes a user's prompt and chosen platform, then calls the caption, emoji, and hashtag generator functions to assemble the final post.\n"
      ],
      "metadata": {
        "id": "1l8IsFiFdusD"
      }
    },
    {
      "cell_type": "code",
      "source": [
        "def generate_post(prompt, platform):\n",
        "    # Generate caption\n",
        "    caption = caption_generator(prompt, max_length=50, num_return_sequences=1)[0]['generated_text']\n",
        "\n",
        "    # Generate emojis\n",
        "    emojis = get_emojis(caption)\n",
        "\n",
        "    # Generate hashtags\n",
        "    hashtags = get_hashtags(prompt, platform)\n",
        "\n",
        "    return caption.strip(), emojis, hashtags"
      ],
      "metadata": {
        "id": "QKH5_95BzeME"
      },
      "execution_count": null,
      "outputs": []
    },
    {
      "cell_type": "markdown",
      "source": [
        "### 5. Gradio Web Interface\n",
        "This final section builds and launches the user interface using the `gradio` library. It defines the input fields (a text box and radio buttons) and the output fields to display the generated caption, emojis, and hashtags."
      ],
      "metadata": {
        "id": "_5tG1umCdz9T"
      }
    },
    {
      "cell_type": "code",
      "source": [
        "interface = gr.Interface(\n",
        "    fn=generate_post,\n",
        "    inputs=[\n",
        "        gr.Textbox(label=\"Enter keyword or theme\"),\n",
        "        gr.Radio([\"Instagram\", \"LinkedIn\", \"Twitter\"], label=\"Choose Platform\")\n",
        "    ],\n",
        "    outputs=[\n",
        "        gr.Textbox(label=\"Generated Caption\"),\n",
        "        gr.Textbox(label=\"Emojis\"),\n",
        "        gr.Textbox(label=\"Hashtags\")\n",
        "    ],\n",
        "    title=\"Social Media Post & Caption Generator\",\n",
        "    description=\"Generate catchy captions, relevant hashtags, and emojis based on your theme!\"\n",
        ")\n",
        "\n",
        "interface.launch()"
      ],
      "metadata": {
        "id": "QskEXexNzeLI"
      },
      "execution_count": null,
      "outputs": []
    }
  ]
}